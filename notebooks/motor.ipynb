{
 "cells": [
  {
   "cell_type": "markdown",
   "metadata": {},
   "source": [
    "**WARNING** Changed to pin 15 because pin 32 was not working\n",
    "\n",
    "# Motor Control Testing\n",
    "Enable Pin 32 / PWM0 + Enable Pin 33 / PWM2\n",
    "\n"
   ]
  },
  {
   "cell_type": "code",
   "execution_count": null,
   "metadata": {},
   "outputs": [],
   "source": [
    "!sudo pip install Jetson.GPIO\n",
    "# !sudo busybox devmem 0x700031fc 32 0x45\n",
    "# !sudo busybox devmem 0x6000d504 32 0x2\n",
    "# !sudo busybox devmem 0x70003248 32 0x46\n",
    "# !sudo busybox devmem 0x6000d100 32 0x00"
   ]
  },
  {
   "cell_type": "code",
   "execution_count": null,
   "metadata": {},
   "outputs": [],
   "source": [
    "import RPi.GPIO as GPIO\n",
    "import time\n",
    "\n",
    "GPIO.setwarnings(False)\n",
    "GPIO.setmode(GPIO.BOARD)\n",
    "\n",
    "# Enable, forward, backward\n",
    "lpin = [15, 38, 37]\n",
    "rpin = [33, 35, 36]\n",
    "hz = 50\n",
    "\n",
    "GPIO.setup(lpin[0], GPIO.OUT)\n",
    "GPIO.setup(rpin[0], GPIO.OUT)\n",
    "GPIO.setup(lpin[1],GPIO.OUT, initial=GPIO.LOW)\n",
    "GPIO.setup(rpin[1],GPIO.OUT, initial=GPIO.LOW)\n",
    "GPIO.setup(lpin[2], GPIO.OUT, initial=GPIO.LOW)\n",
    "GPIO.setup(rpin[2], GPIO.OUT, initial=GPIO.LOW)\n",
    "\n",
    "lpwm = GPIO.PWM(lpin[0], hz)\n",
    "rpwm = GPIO.PWM(rpin[0], hz)\n",
    "\n",
    "lpwm.start(0)\n",
    "rpwm.start(0)"
   ]
  },
  {
   "cell_type": "code",
   "execution_count": null,
   "metadata": {},
   "outputs": [],
   "source": [
    "def forward(speed=100):\n",
    "    lpwm.ChangeDutyCycle(speed)\n",
    "    rpwm.ChangeDutyCycle(speed)\n",
    "    GPIO.output(lpin[1],GPIO.HIGH)\n",
    "    GPIO.output(rpin[1],GPIO.HIGH)\n",
    "    GPIO.output(lpin[2],GPIO.LOW)\n",
    "    GPIO.output(rpin[2],GPIO.LOW)"
   ]
  },
  {
   "cell_type": "code",
   "execution_count": null,
   "metadata": {},
   "outputs": [],
   "source": [
    "def stop():\n",
    "    lpwm.ChangeDutyCycle(0)\n",
    "    rpwm.ChangeDutyCycle(0)\n",
    "    GPIO.output(lpin[1],GPIO.LOW)\n",
    "    GPIO.output(rpin[1],GPIO.LOW)\n",
    "    GPIO.output(lpin[2],GPIO.LOW)\n",
    "    GPIO.output(rpin[2],GPIO.LOW)"
   ]
  },
  {
   "cell_type": "code",
   "execution_count": null,
   "metadata": {},
   "outputs": [],
   "source": [
    "forward(50)\n",
    "time.sleep(1)\n",
    "stop()\n",
    "\n",
    "\n"
   ]
  },
  {
   "cell_type": "markdown",
   "metadata": {},
   "source": [
    "# No PWM"
   ]
  },
  {
   "cell_type": "code",
   "execution_count": null,
   "metadata": {},
   "outputs": [],
   "source": [
    "import RPi.GPIO as GPIO\n",
    "import time\n",
    "\n",
    "GPIO.setwarnings(False)\n",
    "GPIO.setmode(GPIO.BOARD)\n",
    "\n",
    "# Enable, forward, backward\n",
    "lpin = [32, 38, 37]\n",
    "rpin = [33, 35, 36]\n",
    "hz = 50\n",
    "\n",
    "GPIO.setup(lpin[0], GPIO.OUT, initial=GPIO.LOW)\n",
    "GPIO.setup(rpin[0], GPIO.OUT, initial=GPIO.LOW)\n",
    "GPIO.setup(lpin[1],GPIO.OUT, initial=GPIO.LOW)\n",
    "GPIO.setup(rpin[1],GPIO.OUT, initial=GPIO.LOW)\n",
    "GPIO.setup(lpin[2], GPIO.OUT, initial=GPIO.LOW)\n",
    "GPIO.setup(rpin[2], GPIO.OUT, initial=GPIO.LOW)"
   ]
  },
  {
   "cell_type": "code",
   "execution_count": null,
   "metadata": {},
   "outputs": [],
   "source": [
    "def forward():\n",
    "    GPIO.output(lpin[0],GPIO.HIGH)\n",
    "    GPIO.output(rpin[0],GPIO.HIGH)\n",
    "    GPIO.output(lpin[1],GPIO.HIGH)\n",
    "    GPIO.output(rpin[1],GPIO.HIGH)\n",
    "    GPIO.output(lpin[2],GPIO.LOW)\n",
    "    GPIO.output(rpin[2],GPIO.LOW)"
   ]
  },
  {
   "cell_type": "code",
   "execution_count": null,
   "metadata": {},
   "outputs": [],
   "source": [
    "def stop():\n",
    "    GPIO.output(lpin[0],GPIO.LOW)\n",
    "    GPIO.output(rpin[0],GPIO.LOW)\n",
    "    GPIO.output(lpin[1],GPIO.HIGH)\n",
    "    GPIO.output(rpin[1],GPIO.HIGH)\n",
    "    GPIO.output(lpin[2],GPIO.LOW)\n",
    "    GPIO.output(rpin[2],GPIO.LOW)"
   ]
  },
  {
   "cell_type": "code",
   "execution_count": null,
   "metadata": {},
   "outputs": [],
   "source": [
    "def backward():\n",
    "    GPIO.output(lpin[0],GPIO.HIGH)\n",
    "    GPIO.output(rpin[0],GPIO.HIGH)\n",
    "    GPIO.output(lpin[1],GPIO.LOW)\n",
    "    GPIO.output(rpin[1],GPIO.LOW)\n",
    "    GPIO.output(lpin[2],GPIO.HIGH)\n",
    "    GPIO.output(rpin[2],GPIO.HIGH)"
   ]
  },
  {
   "cell_type": "code",
   "execution_count": null,
   "metadata": {},
   "outputs": [],
   "source": [
    "forward()\n",
    "time.sleep(1)\n",
    "stop()\n",
    "\n",
    "time.sleep(1)\n",
    "\n",
    "backward()\n",
    "time.sleep(1)\n",
    "stop()"
   ]
  },
  {
   "cell_type": "markdown",
   "metadata": {},
   "source": [
    "# Tegra Mode"
   ]
  },
  {
   "cell_type": "code",
   "execution_count": null,
   "metadata": {},
   "outputs": [],
   "source": [
    "import RPi.GPIO as GPIO\n",
    "import time\n",
    "\n",
    "# GPIO.setwarnings(False)\n",
    "GPIO.setmode(GPIO.TEGRA_SOC)\n",
    "\n",
    "# Enable, forward, backward\n",
    "lpin = [\"GP113_PWM7\", \"GP124\", \"GP38_SPI3_MOSI\"]\n",
    "rpin = [\"GP115\", \"GP125\", \"GP73_UART1_CTS_N\"]\n",
    "hz = 50\n",
    "\n",
    "GPIO.setup(lpin[0], GPIO.OUT)\n",
    "GPIO.setup(rpin[0], GPIO.OUT)\n",
    "GPIO.setup(lpin[1],GPIO.OUT, initial=GPIO.LOW)\n",
    "GPIO.setup(rpin[1],GPIO.OUT, initial=GPIO.LOW)\n",
    "GPIO.setup(lpin[2], GPIO.OUT, initial=GPIO.LOW)\n",
    "GPIO.setup(rpin[2], GPIO.OUT, initial=GPIO.LOW)\n",
    "\n",
    "lpwm = GPIO.PWM(lpin[0], hz)\n",
    "rpwm = GPIO.PWM(rpin[0], hz)\n",
    "\n",
    "lpwm.start(0)\n",
    "rpwm.start(0)\n"
   ]
  },
  {
   "cell_type": "markdown",
   "metadata": {},
   "source": [
    "```sh\n",
    "matt@deepdrive:~$ sudo /opt/nvidia/jetson-io/jetson-io.py \n",
    "\n",
    "\n",
    "  =================== Jetson Expansion Header Tool ===================\n",
    " |                                                                    |\n",
    " |                                                                    |\n",
    " |                Select desired functions (for pins):                |\n",
    " |                                                                    |\n",
    " |                [ ] aud            (7)                              |\n",
    " |                [ ] extperiph3_clk (29)                             |\n",
    " |                [ ] extperiph4_clk (31)                             |\n",
    " |                [ ] i2s2           (12,35,38,40)                    |\n",
    " |                [*] pwm1           (15)                             |\n",
    " |                [*] pwm5           (33)                             |\n",
    " |                [*] pwm7           (32)                             |\n",
    " |                [ ] spi1           (19,21,23,24,26)                 |\n",
    " |                [ ] spi3           (13,16,18,22,37)                 |\n",
    " |                [ ] uarta-cts/rts  (11,36)                          |\n",
    " |                                                                    |\n",
    " |                                Back                                |\n",
    " |                                                                    |\n",
    "  ====================================================================\n",
    "```"
   ]
  }
 ],
 "metadata": {
  "language_info": {
   "name": "python"
  }
 },
 "nbformat": 4,
 "nbformat_minor": 2
}
