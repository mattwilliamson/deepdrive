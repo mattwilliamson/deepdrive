{
 "cells": [
  {
   "cell_type": "markdown",
   "metadata": {},
   "source": [
    "**WARNING** Changed to pin 15 because pin 32 was not working\n",
    "\n",
    "# Motor Control Testing\n",
    "Enable Pin 32 / PWM0 + Enable Pin 33 / PWM2\n",
    "\n",
    "```sh\n",
    "sudo /opt/nvidia/jetson-io/jetson-io.py\n",
    "```"
   ]
  },
  {
   "cell_type": "code",
   "execution_count": null,
   "metadata": {},
   "outputs": [],
   "source": [
    "!sudo pip install Jetson.GPIO\n",
    "# !sudo busybox devmem 0x700031fc 32 0x45\n",
    "# !sudo busybox devmem 0x6000d504 32 0x2\n",
    "# !sudo busybox devmem 0x70003248 32 0x46\n",
    "# !sudo busybox devmem 0x6000d100 32 0x00\n",
    "\n",
    "# Jetson Orin Nano\n",
    "# Set BOARD pin 15 as mux function PWM:\n",
    "# sudo busybox devmem 0x02440020 32 0x400\n",
    "# Set BOARD pin 33 as mux function PWM:\n",
    "# sudo busybox devmem 0x02434040 32 0x401"
   ]
  },
  {
   "cell_type": "code",
   "execution_count": 1,
   "metadata": {},
   "outputs": [],
   "source": [
    "import RPi.GPIO as GPIO\n",
    "import time\n",
    "\n",
    "GPIO.setwarnings(False)\n",
    "GPIO.setmode(GPIO.BOARD)\n",
    "\n",
    "# Enable, forward, backward\n",
    "lpin = [32, 38, 37]\n",
    "rpin = [33, 35, 36]\n",
    "hz = 50\n",
    "\n",
    "GPIO.setup(lpin[1],GPIO.OUT, initial=GPIO.LOW)\n",
    "GPIO.setup(rpin[1],GPIO.OUT, initial=GPIO.LOW)\n",
    "GPIO.setup(lpin[2], GPIO.OUT, initial=GPIO.LOW)\n",
    "GPIO.setup(rpin[2], GPIO.OUT, initial=GPIO.LOW)\n",
    "\n",
    "GPIO.setup(lpin[0], GPIO.OUT)\n",
    "lpwm = GPIO.PWM(lpin[0], hz)\n",
    "lpwm.start(0)\n",
    "\n",
    "GPIO.setup(rpin[0], GPIO.OUT)\n",
    "rpwm = GPIO.PWM(rpin[0], hz)\n",
    "rpwm.start(0)"
   ]
  },
  {
   "cell_type": "code",
   "execution_count": 2,
   "metadata": {},
   "outputs": [],
   "source": [
    "def forward(speed_left=100, speed_right=100):\n",
    "    GPIO.output(lpin[1],GPIO.HIGH)\n",
    "    GPIO.output(rpin[1],GPIO.HIGH)\n",
    "    GPIO.output(lpin[2],GPIO.LOW)\n",
    "    GPIO.output(rpin[2],GPIO.LOW)\n",
    "    lpwm.ChangeDutyCycle(speed_left)\n",
    "    rpwm.ChangeDutyCycle(speed_right)\n",
    "\n",
    "def stop():\n",
    "    GPIO.output(lpin[1],GPIO.LOW)\n",
    "    GPIO.output(rpin[1],GPIO.LOW)\n",
    "    GPIO.output(lpin[2],GPIO.LOW)\n",
    "    GPIO.output(rpin[2],GPIO.LOW)\n",
    "    lpwm.ChangeDutyCycle(0)\n",
    "    rpwm.ChangeDutyCycle(0)"
   ]
  },
  {
   "cell_type": "code",
   "execution_count": 4,
   "metadata": {},
   "outputs": [
    {
     "ename": "OSError",
     "evalue": "[Errno 9] Bad file descriptor",
     "output_type": "error",
     "traceback": [
      "\u001b[0;31m---------------------------------------------------------------------------\u001b[0m",
      "\u001b[0;31mOSError\u001b[0m                                   Traceback (most recent call last)",
      "\u001b[0;31mOSError\u001b[0m: [Errno 9] Bad file descriptor",
      "\nDuring handling of the above exception, another exception occurred:\n",
      "\u001b[0;31mOSError\u001b[0m                                   Traceback (most recent call last)",
      "Cell \u001b[0;32mIn[4], line 41\u001b[0m\n\u001b[1;32m     37\u001b[0m     time\u001b[38;5;241m.\u001b[39msleep(\u001b[38;5;241m0.01\u001b[39m)\n\u001b[1;32m     39\u001b[0m stop()\n\u001b[0;32m---> 41\u001b[0m \u001b[43mGPIO\u001b[49m\u001b[38;5;241;43m.\u001b[39;49m\u001b[43mcleanup\u001b[49m\u001b[43m(\u001b[49m\u001b[43m)\u001b[49m\n",
      "File \u001b[0;32m~/src/deepdrive/venv/lib/python3.8/site-packages/Jetson/GPIO/gpio.py:381\u001b[0m, in \u001b[0;36mcleanup\u001b[0;34m(channel)\u001b[0m\n\u001b[1;32m    379\u001b[0m \u001b[38;5;66;03m# clean all channels if no channel param provided\u001b[39;00m\n\u001b[1;32m    380\u001b[0m \u001b[38;5;28;01mif\u001b[39;00m channel \u001b[38;5;129;01mis\u001b[39;00m \u001b[38;5;28;01mNone\u001b[39;00m:\n\u001b[0;32m--> 381\u001b[0m     \u001b[43m_cleanup_all\u001b[49m\u001b[43m(\u001b[49m\u001b[43m)\u001b[49m\n\u001b[1;32m    382\u001b[0m     \u001b[38;5;28;01mreturn\u001b[39;00m\n\u001b[1;32m    384\u001b[0m ch_infos \u001b[38;5;241m=\u001b[39m _channels_to_infos(channel)\n",
      "File \u001b[0;32m~/src/deepdrive/venv/lib/python3.8/site-packages/Jetson/GPIO/gpio.py:273\u001b[0m, in \u001b[0;36m_cleanup_all\u001b[0;34m()\u001b[0m\n\u001b[1;32m    270\u001b[0m \u001b[38;5;28;01mfor\u001b[39;00m channel \u001b[38;5;129;01min\u001b[39;00m \u001b[38;5;28mlist\u001b[39m(_channel_configuration\u001b[38;5;241m.\u001b[39mkeys()):\n\u001b[1;32m    271\u001b[0m     ch_info \u001b[38;5;241m=\u001b[39m _channel_to_info(channel)\n\u001b[0;32m--> 273\u001b[0m     \u001b[43m_cleanup_one\u001b[49m\u001b[43m(\u001b[49m\u001b[43mch_info\u001b[49m\u001b[43m)\u001b[49m\n\u001b[1;32m    275\u001b[0m _gpio_mode \u001b[38;5;241m=\u001b[39m \u001b[38;5;28;01mNone\u001b[39;00m\n",
      "File \u001b[0;32m~/src/deepdrive/venv/lib/python3.8/site-packages/Jetson/GPIO/gpio.py:248\u001b[0m, in \u001b[0;36m_cleanup_one\u001b[0;34m(ch_info)\u001b[0m\n\u001b[1;32m    246\u001b[0m \u001b[38;5;28;01mif\u001b[39;00m app_cfg \u001b[38;5;241m==\u001b[39m HARD_PWM:\n\u001b[1;32m    247\u001b[0m     _disable_pwm(ch_info)\n\u001b[0;32m--> 248\u001b[0m     \u001b[43m_unexport_pwm\u001b[49m\u001b[43m(\u001b[49m\u001b[43mch_info\u001b[49m\u001b[43m)\u001b[49m\n\u001b[1;32m    249\u001b[0m \u001b[38;5;28;01melse\u001b[39;00m:\n\u001b[1;32m    250\u001b[0m     event\u001b[38;5;241m.\u001b[39mevent_cleanup(ch_info\u001b[38;5;241m.\u001b[39mgpio_chip, ch_info\u001b[38;5;241m.\u001b[39mchannel)\n",
      "File \u001b[0;32m~/src/deepdrive/venv/lib/python3.8/site-packages/Jetson/GPIO/gpio.py:201\u001b[0m, in \u001b[0;36m_unexport_pwm\u001b[0;34m(ch_info)\u001b[0m\n\u001b[1;32m    200\u001b[0m \u001b[38;5;28;01mdef\u001b[39;00m \u001b[38;5;21m_unexport_pwm\u001b[39m(ch_info):\n\u001b[0;32m--> 201\u001b[0m     \u001b[43mch_info\u001b[49m\u001b[38;5;241;43m.\u001b[39;49m\u001b[43mf_duty_cycle\u001b[49m\u001b[38;5;241;43m.\u001b[39;49m\u001b[43mclose\u001b[49m\u001b[43m(\u001b[49m\u001b[43m)\u001b[49m\n\u001b[1;32m    203\u001b[0m     \u001b[38;5;28;01mwith\u001b[39;00m \u001b[38;5;28mopen\u001b[39m(_pwm_unexport_path(ch_info), \u001b[38;5;124m'\u001b[39m\u001b[38;5;124mw\u001b[39m\u001b[38;5;124m'\u001b[39m) \u001b[38;5;28;01mas\u001b[39;00m f:\n\u001b[1;32m    204\u001b[0m         f\u001b[38;5;241m.\u001b[39mwrite(\u001b[38;5;28mstr\u001b[39m(ch_info\u001b[38;5;241m.\u001b[39mpwm_id))\n",
      "\u001b[0;31mOSError\u001b[0m: [Errno 9] Bad file descriptor"
     ]
    }
   ],
   "source": [
    "forward(20, 0)\n",
    "time.sleep(2)\n",
    "stop()\n",
    "\n",
    "forward(0, 20)\n",
    "time.sleep(2)\n",
    "stop()\n",
    "\n",
    "\n",
    "forward(0, 100)\n",
    "time.sleep(2)\n",
    "stop()\n",
    "\n",
    "\n",
    "forward(100, 0)\n",
    "time.sleep(2)\n",
    "stop()\n",
    "\n",
    "forward(50, 0)\n",
    "\n",
    "for i in range(0, 100):\n",
    "    forward(i, 0)\n",
    "    time.sleep(0.1)\n",
    "\n",
    "for i in range(100, 1, -1):\n",
    "    forward(i, 0)\n",
    "    time.sleep(0.1)\n",
    "\n",
    "stop()\n",
    "\n",
    "for i in range(0, 100):\n",
    "    forward(0, i)\n",
    "    time.sleep(0.1)\n",
    "\n",
    "for i in range(100, 1, -1):\n",
    "    forward(0, i)\n",
    "    time.sleep(0.1)\n",
    "\n",
    "stop()\n",
    "\n",
    "GPIO.cleanup()\n"
   ]
  },
  {
   "cell_type": "markdown",
   "metadata": {},
   "source": [
    "# No PWM"
   ]
  },
  {
   "cell_type": "code",
   "execution_count": null,
   "metadata": {},
   "outputs": [],
   "source": [
    "import RPi.GPIO as GPIO\n",
    "import time\n",
    "\n",
    "GPIO.setwarnings(False)\n",
    "GPIO.setmode(GPIO.BOARD)\n",
    "\n",
    "# Enable, forward, backward\n",
    "lpin = [15, 38, 37]\n",
    "rpin = [33, 35, 36]\n",
    "hz = 50\n",
    "\n",
    "GPIO.setup(lpin[0], GPIO.OUT, initial=GPIO.LOW)\n",
    "GPIO.setup(rpin[0], GPIO.OUT, initial=GPIO.LOW)\n",
    "GPIO.setup(lpin[1],GPIO.OUT, initial=GPIO.LOW)\n",
    "GPIO.setup(rpin[1],GPIO.OUT, initial=GPIO.LOW)\n",
    "GPIO.setup(lpin[2], GPIO.OUT, initial=GPIO.LOW)\n",
    "GPIO.setup(rpin[2], GPIO.OUT, initial=GPIO.LOW)"
   ]
  },
  {
   "cell_type": "code",
   "execution_count": null,
   "metadata": {},
   "outputs": [],
   "source": [
    "def forward():\n",
    "    GPIO.output(lpin[0],GPIO.HIGH)\n",
    "    GPIO.output(rpin[0],GPIO.HIGH)\n",
    "    GPIO.output(lpin[1],GPIO.HIGH)\n",
    "    GPIO.output(rpin[1],GPIO.HIGH)\n",
    "    GPIO.output(lpin[2],GPIO.LOW)\n",
    "    GPIO.output(rpin[2],GPIO.LOW)"
   ]
  },
  {
   "cell_type": "code",
   "execution_count": null,
   "metadata": {},
   "outputs": [],
   "source": [
    "def stop():\n",
    "    GPIO.output(lpin[0],GPIO.LOW)\n",
    "    GPIO.output(rpin[0],GPIO.LOW)\n",
    "    GPIO.output(lpin[1],GPIO.HIGH)\n",
    "    GPIO.output(rpin[1],GPIO.HIGH)\n",
    "    GPIO.output(lpin[2],GPIO.LOW)\n",
    "    GPIO.output(rpin[2],GPIO.LOW)"
   ]
  },
  {
   "cell_type": "code",
   "execution_count": null,
   "metadata": {},
   "outputs": [],
   "source": [
    "def backward():\n",
    "    GPIO.output(lpin[0],GPIO.HIGH)\n",
    "    GPIO.output(rpin[0],GPIO.HIGH)\n",
    "    GPIO.output(lpin[1],GPIO.LOW)\n",
    "    GPIO.output(rpin[1],GPIO.LOW)\n",
    "    GPIO.output(lpin[2],GPIO.HIGH)\n",
    "    GPIO.output(rpin[2],GPIO.HIGH)"
   ]
  },
  {
   "cell_type": "code",
   "execution_count": null,
   "metadata": {},
   "outputs": [],
   "source": [
    "forward()\n",
    "time.sleep(1)\n",
    "stop()\n",
    "\n",
    "time.sleep(1)\n",
    "\n",
    "backward()\n",
    "time.sleep(1)\n",
    "stop()"
   ]
  },
  {
   "cell_type": "markdown",
   "metadata": {},
   "source": [
    "# Tegra Mode"
   ]
  },
  {
   "cell_type": "code",
   "execution_count": null,
   "metadata": {},
   "outputs": [],
   "source": [
    "import RPi.GPIO as GPIO\n",
    "import time\n",
    "\n",
    "# GPIO.setwarnings(False)\n",
    "GPIO.setmode(GPIO.TEGRA_SOC)\n",
    "\n",
    "# Enable, forward, backward\n",
    "lpin = [\"GP113_PWM7\", \"GP124\", \"GP38_SPI3_MOSI\"]\n",
    "rpin = [\"GP115\", \"GP125\", \"GP73_UART1_CTS_N\"]\n",
    "hz = 50\n",
    "\n",
    "GPIO.setup(lpin[0], GPIO.OUT)\n",
    "GPIO.setup(rpin[0], GPIO.OUT)\n",
    "GPIO.setup(lpin[1],GPIO.OUT, initial=GPIO.LOW)\n",
    "GPIO.setup(rpin[1],GPIO.OUT, initial=GPIO.LOW)\n",
    "GPIO.setup(lpin[2], GPIO.OUT, initial=GPIO.LOW)\n",
    "GPIO.setup(rpin[2], GPIO.OUT, initial=GPIO.LOW)\n",
    "\n",
    "lpwm = GPIO.PWM(lpin[0], hz)\n",
    "rpwm = GPIO.PWM(rpin[0], hz)\n",
    "\n",
    "lpwm.start(0)\n",
    "rpwm.start(0)\n"
   ]
  },
  {
   "cell_type": "markdown",
   "metadata": {},
   "source": [
    "```sh\n",
    "matt@deepdrive:~$ sudo /opt/nvidia/jetson-io/jetson-io.py \n",
    "\n",
    "\n",
    "  =================== Jetson Expansion Header Tool ===================\n",
    " |                                                                    |\n",
    " |                                                                    |\n",
    " |                Select desired functions (for pins):                |\n",
    " |                                                                    |\n",
    " |                [ ] aud            (7)                              |\n",
    " |                [ ] extperiph3_clk (29)                             |\n",
    " |                [ ] extperiph4_clk (31)                             |\n",
    " |                [ ] i2s2           (12,35,38,40)                    |\n",
    " |                [*] pwm1           (15)                             |\n",
    " |                [*] pwm5           (33)                             |\n",
    " |                [*] pwm7           (32)                             |\n",
    " |                [ ] spi1           (19,21,23,24,26)                 |\n",
    " |                [ ] spi3           (13,16,18,22,37)                 |\n",
    " |                [ ] uarta-cts/rts  (11,36)                          |\n",
    " |                                                                    |\n",
    " |                                Back                                |\n",
    " |                                                                    |\n",
    "  ====================================================================\n",
    "```"
   ]
  }
 ],
 "metadata": {
  "kernelspec": {
   "display_name": "venv",
   "language": "python",
   "name": "python3"
  },
  "language_info": {
   "codemirror_mode": {
    "name": "ipython",
    "version": 3
   },
   "file_extension": ".py",
   "mimetype": "text/x-python",
   "name": "python",
   "nbconvert_exporter": "python",
   "pygments_lexer": "ipython3",
   "version": "3.8.10"
  }
 },
 "nbformat": 4,
 "nbformat_minor": 2
}
