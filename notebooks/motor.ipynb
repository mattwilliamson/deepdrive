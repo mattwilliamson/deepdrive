{
 "cells": [
  {
   "cell_type": "markdown",
   "metadata": {},
   "source": [
    "# Motor Control Testing\n",
    "Enable Pin 32 / PWM0 + Enable Pin 33 / PWM2"
   ]
  },
  {
   "cell_type": "code",
   "execution_count": null,
   "metadata": {},
   "outputs": [],
   "source": [
    "!sudo pip install Jetson.GPIO\n",
    "!sudo busybox devmem 0x700031fc 32 0x45\n",
    "!sudo busybox devmem 0x6000d504 32 0x2\n",
    "!sudo busybox devmem 0x70003248 32 0x46\n",
    "!sudo busybox devmem 0x6000d100 32 0x00"
   ]
  },
  {
   "cell_type": "code",
   "execution_count": null,
   "metadata": {},
   "outputs": [],
   "source": [
    "import RPi.GPIO as GPIO\n",
    "import time\n",
    "\n",
    "GPIO.setwarnings(False)\n",
    "GPIO.setmode(GPIO.BOARD)\n",
    "\n",
    "# Enable, forward, backward\n",
    "lpin = [32, 38, 37]\n",
    "rpin = [33, 35, 36]\n",
    "hz = 50\n",
    "\n",
    "GPIO.setup(lpin[0], GPIO.OUT)\n",
    "GPIO.setup(rpin[0], GPIO.OUT)\n",
    "GPIO.setup(lpin[1],GPIO.OUT, initial=GPIO.LOW)\n",
    "GPIO.setup(rpin[1],GPIO.OUT, initial=GPIO.LOW)\n",
    "GPIO.setup(lpin[2], GPIO.OUT, initial=GPIO.LOW)\n",
    "GPIO.setup(rpin[2], GPIO.OUT, initial=GPIO.LOW)\n",
    "\n",
    "lpwm = GPIO.PWM(lpin[0], hz)\n",
    "rpwm = GPIO.PWM(rpin[0], hz)\n",
    "\n",
    "lpwm.start(0)\n",
    "rpwm.start(0)"
   ]
  },
  {
   "cell_type": "code",
   "execution_count": null,
   "metadata": {},
   "outputs": [],
   "source": [
    "def forward():\n",
    "    speed = 100.0\n",
    "    lpwm.ChangeDutyCycle(speed)\n",
    "    rpwm.ChangeDutyCycle(speed)\n",
    "    GPIO.output(lpin[1],GPIO.HIGH)\n",
    "    GPIO.output(rpin[1],GPIO.HIGH)\n",
    "    GPIO.output(lpin[2],GPIO.LOW)\n",
    "    GPIO.output(rpin[2],GPIO.LOW)"
   ]
  },
  {
   "cell_type": "code",
   "execution_count": null,
   "metadata": {},
   "outputs": [],
   "source": []
  },
  {
   "cell_type": "markdown",
   "metadata": {},
   "source": [
    "# No PWM"
   ]
  },
  {
   "cell_type": "code",
   "execution_count": null,
   "metadata": {},
   "outputs": [],
   "source": [
    "import RPi.GPIO as GPIO\n",
    "import time\n",
    "\n",
    "GPIO.setwarnings(False)\n",
    "GPIO.setmode(GPIO.BOARD)\n",
    "\n",
    "# Enable, forward, backward\n",
    "lpin = [32, 38, 37]\n",
    "rpin = [33, 35, 36]\n",
    "hz = 50\n",
    "\n",
    "GPIO.setup(lpin[0], GPIO.OUT, initial=GPIO.LOW)\n",
    "GPIO.setup(rpin[0], GPIO.OUT, initial=GPIO.LOW)\n",
    "GPIO.setup(lpin[1],GPIO.OUT, initial=GPIO.LOW)\n",
    "GPIO.setup(rpin[1],GPIO.OUT, initial=GPIO.LOW)\n",
    "GPIO.setup(lpin[2], GPIO.OUT, initial=GPIO.LOW)\n",
    "GPIO.setup(rpin[2], GPIO.OUT, initial=GPIO.LOW)"
   ]
  },
  {
   "cell_type": "code",
   "execution_count": null,
   "metadata": {},
   "outputs": [],
   "source": [
    "def forward():\n",
    "    GPIO.output(lpin[0],GPIO.HIGH)\n",
    "    GPIO.output(rpin[0],GPIO.HIGH)\n",
    "    GPIO.output(lpin[1],GPIO.HIGH)\n",
    "    GPIO.output(rpin[1],GPIO.HIGH)\n",
    "    GPIO.output(lpin[2],GPIO.LOW)\n",
    "    GPIO.output(rpin[2],GPIO.LOW)"
   ]
  },
  {
   "cell_type": "code",
   "execution_count": null,
   "metadata": {},
   "outputs": [],
   "source": [
    "def stop():\n",
    "    GPIO.output(lpin[0],GPIO.LOW)\n",
    "    GPIO.output(rpin[0],GPIO.LOW)\n",
    "    GPIO.output(lpin[1],GPIO.HIGH)\n",
    "    GPIO.output(rpin[1],GPIO.HIGH)\n",
    "    GPIO.output(lpin[2],GPIO.LOW)\n",
    "    GPIO.output(rpin[2],GPIO.LOW)"
   ]
  },
  {
   "cell_type": "code",
   "execution_count": null,
   "metadata": {},
   "outputs": [],
   "source": [
    "forward()\n",
    "stop()"
   ]
  }
 ],
 "metadata": {
  "language_info": {
   "name": "python"
  }
 },
 "nbformat": 4,
 "nbformat_minor": 2
}
